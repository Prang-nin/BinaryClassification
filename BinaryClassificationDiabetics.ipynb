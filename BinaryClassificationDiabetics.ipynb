{
  "cells": [
    {
      "cell_type": "markdown",
      "metadata": {
        "id": "view-in-github",
        "colab_type": "text"
      },
      "source": [
        "<a href=\"https://colab.research.google.com/github/Prang-nin/BinaryClassification/blob/main/BinaryClassificationDiabetics.ipynb\" target=\"_parent\"><img src=\"https://colab.research.google.com/assets/colab-badge.svg\" alt=\"Open In Colab\"/></a>"
      ]
    },
    {
      "cell_type": "markdown",
      "source": [
        "# **SECTION I : INTRODUCTION**\n",
        "## **Objective** : 💉\n",
        "To compare the performances of three different machine learning models using a diabetes dataset to classify whether or not the person is diabetic.\n",
        "\n",
        "**Candidate models**\n",
        "1. K-Nearest Neighbors\n",
        "2. Support Vector Machines\n",
        "3. Random Forest\n",
        "\n",
        "**The Data set can be download**\n",
        "\n",
        "👉 https://www.kaggle.com/uciml/pima-indians-diabetes-database\n",
        "\n",
        "## **Table of contents** ✍\n",
        "\n",
        "**Pre-processing** 🔰\n",
        "\n",
        "- Import modules and libraries\n",
        "- Load the dataset \n",
        "- Data visualization\n",
        "- Cleaning the data set\n",
        "- Features normalization\n",
        "- Imbalanced data handling using SMOTE\n",
        "\n",
        "**Train models**  ⌛\n",
        "- Hyperparameters Tuning\n",
        "\n",
        "**Evaluate  Models** 🔔\n",
        "- Using accuracy and confusion matrix\n",
        "\n",
        "**Reference**\n",
        "- Auther and co-auther"
      ],
      "metadata": {
        "id": "lvNQfYGRGDch"
      }
    },
    {
      "cell_type": "markdown",
      "source": [
        "# **1. Import libraries**"
      ],
      "metadata": {
        "id": "-RS1DkMfIFSS"
      }
    },
    {
      "cell_type": "code",
      "source": [
        "import pandas as pd\n",
        "import seaborn as sns\n",
        "\n",
        "from sklearn.model_selection import train_test_split, GridSearchCV\n",
        "\n",
        "from sklearn.preprocessing import MinMaxScaler\n",
        "from imblearn.over_sampling import SMOTE\n",
        "from imblearn.pipeline import Pipeline as imbpipeline\n",
        "\n",
        "from sklearn.neighbors import KNeighborsClassifier\n",
        "from sklearn.svm import SVC\n",
        "from sklearn.ensemble import RandomForestClassifier\n",
        "from sklearn.metrics import accuracy_score, confusion_matrix, classification_report\n",
        "import matplotlib.pyplot as plt"
      ],
      "metadata": {
        "id": "BM1aqVYDINJA"
      },
      "execution_count": null,
      "outputs": []
    },
    {
      "cell_type": "markdown",
      "source": [
        "# **2.Load dataset**"
      ],
      "metadata": {
        "id": "m2eZPTi6IUxZ"
      }
    },
    {
      "cell_type": "code",
      "source": [
        "import io\n",
        "from google.colab import files\n",
        "uploaded = files.upload()\n",
        "df = pd.read_csv(io.BytesIO(uploaded['diabetes.csv']))"
      ],
      "metadata": {
        "colab": {
          "resources": {
            "http://localhost:8080/nbextensions/google.colab/files.js": {
              "data": "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",
              "ok": true,
              "headers": [
                [
                  "content-type",
                  "application/javascript"
                ]
              ],
              "status": 200,
              "status_text": ""
            }
          },
          "base_uri": "https://localhost:8080/",
          "height": 73
        },
        "id": "JJoL2zEWIR8J",
        "outputId": "6793a9c9-39ba-4cbf-ec73-0888c266aed5"
      },
      "execution_count": null,
      "outputs": [
        {
          "output_type": "display_data",
          "data": {
            "text/plain": [
              "<IPython.core.display.HTML object>"
            ],
            "text/html": [
              "\n",
              "     <input type=\"file\" id=\"files-068f3683-c258-42ad-89b4-d5125113b27f\" name=\"files[]\" multiple disabled\n",
              "        style=\"border:none\" />\n",
              "     <output id=\"result-068f3683-c258-42ad-89b4-d5125113b27f\">\n",
              "      Upload widget is only available when the cell has been executed in the\n",
              "      current browser session. Please rerun this cell to enable.\n",
              "      </output>\n",
              "      <script src=\"/nbextensions/google.colab/files.js\"></script> "
            ]
          },
          "metadata": {}
        },
        {
          "output_type": "stream",
          "name": "stdout",
          "text": [
            "Saving diabetes.csv to diabetes.csv\n"
          ]
        }
      ]
    },
    {
      "cell_type": "markdown",
      "source": [
        "# **3. EDA**"
      ],
      "metadata": {
        "id": "PHeMFvYbJPDt"
      }
    },
    {
      "cell_type": "markdown",
      "source": [
        "⏩ Define the Exploratory Data Analysis functions "
      ],
      "metadata": {
        "id": "tujnyUG3KA4n"
      }
    },
    {
      "cell_type": "code",
      "source": [
        "#### Exploratory Data analysis functions ########\n",
        "def checkData(data):\n",
        "  '''\n",
        "  '''\n",
        "  # check dataset\n",
        "  print(data.describe())\n",
        "\n",
        "def plotCorrelation(data):\n",
        "  # check correlation of each features\n",
        "  plt.figure(figsize = (10, 8))\n",
        "  corr = data.corr()\n",
        "  sns.heatmap(corr, annot = True, linewidths = 1)\n",
        "  plt.show()\n",
        "\n",
        "def chekNull(data):\n",
        "  #check null value\n",
        "  nullReport = pd.DataFrame({'Null Values' : data.isna().sum(), 'Percentage Null Values' : (data.isna().sum()) / (data.shape[0]) * (100)})\n",
        "  print(nullReport)\n",
        "\n",
        "def checkInvalid(data):\n",
        "# check invalid value\n",
        "# Only pregnancies and diabetes pedegree can have value equal to zero\n",
        "  print(\"How many zero appeared in each feature groupby the outcome: \")\n",
        "  features = data.iloc[:,:-1]\n",
        "  for item in features.columns:\n",
        "    print(data[data[item] == 0].groupby('Outcome').count()[item])\n",
        "\n",
        "def checkOutlier(df):\n",
        "# check for outlier by using boxplot\n",
        "  plt.figure(figsize = (20, 8))\n",
        "  sns.histplot(df)\n",
        "  for column in df:\n",
        "    plt.figure(figsize=(17,1))\n",
        "    sns.boxplot(data= df, x= column)\n",
        "\n",
        "def checkClassBalance(df):\n",
        "  negDF = df[df.Outcome==0].copy()\n",
        "  posDF = df[df.Outcome==1].copy()\n",
        "  # check dataset balance\n",
        "  print(\"Total number of negative class :\\n\", negDF.Outcome.count())\n",
        "  print(\"Total number of positive class :\\n\", posDF.Outcome.count())"
      ],
      "metadata": {
        "id": "Twh17PIjJTgX"
      },
      "execution_count": null,
      "outputs": []
    },
    {
      "cell_type": "markdown",
      "source": [
        "⏩ Execute the Exploratory Data Analysis functions "
      ],
      "metadata": {
        "id": "kWO4CNMwJqnR"
      }
    },
    {
      "cell_type": "code",
      "source": [
        "  # Exploratory Data Analysis\n",
        "  checkData(df)\n",
        "  plotCorrelation(df)\n",
        "  chekNull(df)\n",
        "  checkInvalid(df)\n",
        "  checkOutlier(df)\n",
        "  checkClassBalance(df)"
      ],
      "metadata": {
        "id": "o4oppv17Jkhy"
      },
      "execution_count": null,
      "outputs": []
    },
    {
      "cell_type": "markdown",
      "source": [
        "# **4. Data Cleaning**"
      ],
      "metadata": {
        "id": "3-UdeEqtKKYp"
      }
    },
    {
      "cell_type": "markdown",
      "source": [
        "⏩ Clean the dataset by replacing zero(incorrect/missing data) with mean of each class"
      ],
      "metadata": {
        "id": "Bf1EBp83KXjx"
      }
    },
    {
      "cell_type": "code",
      "source": [
        "###### Data cleaning ########\n",
        "\n",
        "def replaceZero(df, listOfFeature):\n",
        "# Replacing the zero with mean and median of each class (positive or negative)\n",
        "  negDF = df[df.Outcome==0].copy()\n",
        "  posDF = df[df.Outcome==1].copy()\n",
        "  for i in listOfFeature:\n",
        "    negDF[i] = negDF[i].replace([0], negDF[i].mean())\n",
        "    posDF[i] = posDF[i].replace([0], posDF[i].mean())\n",
        "  cleanedDF = pd.concat([negDF,posDF])\n",
        "  return cleanedDF\n",
        "# list all the features that need to be corrected\n",
        "listOfFeature = ['Glucose', 'BloodPressure', 'SkinThickness', 'Insulin', 'BMI']\n",
        "cleanedDF = replaceZero(df, listOfFeature)\n"
      ],
      "metadata": {
        "id": "3AYGrZCdKOGg"
      },
      "execution_count": null,
      "outputs": []
    },
    {
      "cell_type": "markdown",
      "source": [
        "# **5. Split data into tarin and test dataset**"
      ],
      "metadata": {
        "id": "rX88ZnOPK0cK"
      }
    },
    {
      "cell_type": "code",
      "source": [
        "def getFeature(df):\n",
        "  return df.iloc[:,:-1].copy()\n",
        "def getLabel(df):\n",
        "  return df.iloc[:,-1].copy()\n",
        "\n",
        "# clean the dataset and split into x and y variable\n",
        "x = getFeature(cleanedDF)\n",
        "y = getLabel(cleanedDF)\n",
        "# split dataset into train and test \n",
        "# Test size  = 0.3\n",
        "xTrain, xTest, yTrain, yTest = train_test_split(x, y, test_size = 0.3, random_state=42)"
      ],
      "metadata": {
        "id": "66Z-jmhZK-Rs"
      },
      "execution_count": null,
      "outputs": []
    },
    {
      "cell_type": "markdown",
      "source": [
        "# **6. Generate pipeline with pre-processing **"
      ],
      "metadata": {
        "id": "zLUR0z9PLEwc"
      }
    },
    {
      "cell_type": "code",
      "source": [
        "#Define classifier function to apply pipeline on train and test dataset\n",
        "\n",
        "def classifier(optimizedPipeline, xTrain, yTrain, xTest, yTest):\n",
        "    for i, pip in enumerate(optimizedPipeline):\n",
        "        pip.fit(xTrain,yTrain)\n",
        "        yPred = pip.predict(xTest)\n",
        "        #Find the accurancy and evaluate the model\n",
        "        accurancy = accuracy_score(yTest, yPred)\n",
        "        confusion = confusion_matrix(yTest, yPred)\n",
        "        clfReport = classification_report(yTest, yPred)\n",
        "        print(\"Accuracy Score of {}: \\n {}\".format(modelDict[i], accurancy))\n",
        "        print(\"Confusion Matrix of {} : \\n {}\".format(modelDict[i], confusion))\n",
        "        print(\"Classification report of {}: \\n {}\".format(modelDict[i], clfReport))\n",
        "    return accurancy, confusion\n",
        "\n",
        "# Defined model list and pipline list\n",
        "modelDict = {0:'KNN', 1: 'SVM', 2: 'RandomForest'}"
      ],
      "metadata": {
        "id": "Ci13hDNUL4fr"
      },
      "execution_count": null,
      "outputs": []
    },
    {
      "cell_type": "code",
      "source": [
        "###### pipline creation ######\n",
        "# 1. MinMaxScalar\n",
        "# 2. Oversampling using SMOTE\n",
        "# 3. apply classification\n",
        "\n",
        "pipelineKNN = imbpipeline([('scalar1', MinMaxScaler()), \n",
        "              ('SMOTE1', SMOTE(random_state=42)),\n",
        "              ('knnClassifier', KNeighborsClassifier()) ])\n",
        "\n",
        "pipelineSVM = imbpipeline([('scalar1', MinMaxScaler()), \n",
        "              ('SMOTE1', SMOTE(random_state=42)),\n",
        "              ('svmClassifier', SVC()) ])\n",
        "\n",
        "pipelineRDF = imbpipeline([('scalar1', MinMaxScaler()), \n",
        "              ('SMOTE1', SMOTE(random_state=42)),\n",
        "              ('rdfClassifier', RandomForestClassifier(random_state=42)) ])\n",
        "\n",
        "#List of untunned classifiers\n",
        "pipelineList = [pipelineKNN, pipelineSVM, pipelineRDF]\n",
        "\n",
        "  # Results\n",
        "print(\"The results of different models without optimization\")\n",
        "classifier(pipelineList, xTrain, yTrain, xTest, yTest)"
      ],
      "metadata": {
        "colab": {
          "base_uri": "https://localhost:8080/"
        },
        "id": "RFLwCYgKLOAq",
        "outputId": "de1bb913-4376-4734-f102-41daf62336b5"
      },
      "execution_count": null,
      "outputs": [
        {
          "output_type": "stream",
          "name": "stdout",
          "text": [
            "The results of different models without optimization\n",
            "Accuracy Score of KNN: \n",
            " 0.6796536796536796\n",
            "Confusion Matrix of KNN : \n",
            " [[102  54]\n",
            " [ 20  55]]\n",
            "Classification report of KNN: \n",
            "               precision    recall  f1-score   support\n",
            "\n",
            "           0       0.84      0.65      0.73       156\n",
            "           1       0.50      0.73      0.60        75\n",
            "\n",
            "    accuracy                           0.68       231\n",
            "   macro avg       0.67      0.69      0.67       231\n",
            "weighted avg       0.73      0.68      0.69       231\n",
            "\n",
            "Accuracy Score of SVM: \n",
            " 0.7402597402597403\n",
            "Confusion Matrix of SVM : \n",
            " [[114  42]\n",
            " [ 18  57]]\n",
            "Classification report of SVM: \n",
            "               precision    recall  f1-score   support\n",
            "\n",
            "           0       0.86      0.73      0.79       156\n",
            "           1       0.58      0.76      0.66        75\n",
            "\n",
            "    accuracy                           0.74       231\n",
            "   macro avg       0.72      0.75      0.72       231\n",
            "weighted avg       0.77      0.74      0.75       231\n",
            "\n",
            "Accuracy Score of RandomForest: \n",
            " 0.8528138528138528\n",
            "Confusion Matrix of RandomForest : \n",
            " [[134  22]\n",
            " [ 12  63]]\n",
            "Classification report of RandomForest: \n",
            "               precision    recall  f1-score   support\n",
            "\n",
            "           0       0.92      0.86      0.89       156\n",
            "           1       0.74      0.84      0.79        75\n",
            "\n",
            "    accuracy                           0.85       231\n",
            "   macro avg       0.83      0.85      0.84       231\n",
            "weighted avg       0.86      0.85      0.85       231\n",
            "\n"
          ]
        },
        {
          "output_type": "execute_result",
          "data": {
            "text/plain": [
              "(0.8528138528138528, array([[134,  22],\n",
              "        [ 12,  63]]))"
            ]
          },
          "metadata": {},
          "execution_count": 10
        }
      ]
    },
    {
      "cell_type": "markdown",
      "source": [
        "# **7. Tuning Hyperparameters**"
      ],
      "metadata": {
        "id": "-0ngj7UoMG2A"
      }
    },
    {
      "cell_type": "markdown",
      "source": [
        "⏩ Tuning hyperparameters experiment using GridSearchCV"
      ],
      "metadata": {
        "id": "_weh6uFIOivY"
      }
    },
    {
      "cell_type": "code",
      "source": [
        "####### Specified parameters #######\n",
        "#Dictionary of parameters in KNN :  nameOfStep__nameOfParameters ##\n",
        "parameterKNN = {}\n",
        "parameterKNN['knnClassifier__n_neighbors'] = [int(i) for i in range(1,31)]\n",
        "parameterKNN['knnClassifier__weights'] = ['uniform', 'distance']\n",
        "\n",
        "#Dictionary of parameters in SVM :  nameOfStep__nameOfParameters ##\n",
        "parameterSVM = {}\n",
        "parameterSVM['svmClassifier__C'] = [0.1, 1, 10, 100, 1000]\n",
        "parameterSVM['svmClassifier__gamma'] = ['scale', 'auto']\n",
        "parameterSVM['svmClassifier__kernel'] = ['linear', 'poly', 'rbf', 'sigmoid']\n",
        "parameterSVM['svmClassifier__degree']= [int(i) for i in range(1,6)]\n",
        "\n",
        "#Dictionary of parameters in Randomforest :  nameOfStep__nameOfParameters ##\n",
        "parametersRDF = {}\n",
        "parametersRDF['rdfClassifier__bootstrap'] = [True, False]\n",
        "parametersRDF['rdfClassifier__max_depth'] = [int(i) for i in range(800,1100,100)] #[800,900,1000]\n",
        "parametersRDF['rdfClassifier__max_features'] = ['auto', 'sqrt', 'log2']\n",
        "parametersRDF['rdfClassifier__min_samples_leaf'] = [1,10,20,30,40 ] \n",
        "parametersRDF['rdfClassifier__min_samples_split'] = [int(i) for i in range(2,10,2)] #[2,4,6,8]\n",
        "parametersRDF['rdfClassifier__n_estimators'] = [int(i) for i in range(100,240,20)] #[100,120,140,160,180,200,220]\n",
        "\n",
        "paramList = [parameterKNN, parameterSVM, parametersRDF ]\n",
        "\n",
        "# find best parameter using GridSearchCV\n",
        "def tuneParameter(pipelineList, paramList, xTrain, yTrain):\n",
        "    result = []\n",
        "    for pip, para in zip(pipelineList,paramList):\n",
        "        grid = GridSearchCV(pip, para, cv = 5, scoring='accuracy')\n",
        "        grid.fit(xTrain, yTrain)\n",
        "        result.append({'best params': grid.best_params_})\n",
        "    return result\n",
        "\n",
        "# call the function below to perform experiment of finding best hyperparamters within specified range\n",
        "paramOptimization = tuneParameter(pipelineList, paramList, xTrain, yTrain)\n"
      ],
      "metadata": {
        "id": "o3Av3mxqMLwh"
      },
      "execution_count": null,
      "outputs": []
    },
    {
      "cell_type": "markdown",
      "source": [
        "⏩ Applt the best hyperparameters (from previous experiments)"
      ],
      "metadata": {
        "id": "Juk0Wsz8Ovlf"
      }
    },
    {
      "cell_type": "code",
      "source": [
        "# apply the best parameters from previous experiments as tuned hyperparameters\n",
        "\n",
        "pipelineOptKNN = imbpipeline([('scalar1', MinMaxScaler()), \n",
        "              ('SMOTE1', SMOTE(random_state=42)),\n",
        "              ('knnClassifier', KNeighborsClassifier(n_neighbors=8, weights ='distance')) ])\n",
        "\n",
        "pipelineOptSVM = imbpipeline([('scalar1', MinMaxScaler()), \n",
        "              ('SMOTE1', SMOTE(random_state=42)),\n",
        "              ('svmClassifier', SVC(C = 10, gamma = 'scale', kernel ='poly', degree = 3)) ])\n",
        "\n",
        "pipelineOptRDF = imbpipeline([('scalar1', MinMaxScaler()), \n",
        "              ('SMOTE1', SMOTE(random_state=42)),\n",
        "              ('rdfClassifier', RandomForestClassifier(bootstrap= True, max_depth= 800 ,max_features='auto', min_samples_leaf=1, min_samples_split=6, n_estimators=220, random_state=42)) ])       \n",
        "\n",
        "\n",
        "\n",
        "optimizedPipeline = [pipelineOptKNN, pipelineOptSVM, pipelineOptRDF]\n",
        "\n",
        "#Results\n",
        "print(\"The results of different models with optimization\")\n",
        "classifier(optimizedPipeline, xTrain, yTrain, xTest, yTest)\n"
      ],
      "metadata": {
        "colab": {
          "base_uri": "https://localhost:8080/"
        },
        "id": "weUaYwBnMvgc",
        "outputId": "b3ec37df-c401-4517-c1f3-47592390e1f0"
      },
      "execution_count": null,
      "outputs": [
        {
          "output_type": "stream",
          "name": "stdout",
          "text": [
            "The results of different models with optimization\n",
            "Accuracy Score of KNN: \n",
            " 0.696969696969697\n",
            "Confusion Matrix of KNN : \n",
            " [[102  54]\n",
            " [ 16  59]]\n",
            "Classification report of KNN: \n",
            "               precision    recall  f1-score   support\n",
            "\n",
            "           0       0.86      0.65      0.74       156\n",
            "           1       0.52      0.79      0.63        75\n",
            "\n",
            "    accuracy                           0.70       231\n",
            "   macro avg       0.69      0.72      0.69       231\n",
            "weighted avg       0.75      0.70      0.71       231\n",
            "\n",
            "Accuracy Score of SVM: \n",
            " 0.8051948051948052\n",
            "Confusion Matrix of SVM : \n",
            " [[131  25]\n",
            " [ 20  55]]\n",
            "Classification report of SVM: \n",
            "               precision    recall  f1-score   support\n",
            "\n",
            "           0       0.87      0.84      0.85       156\n",
            "           1       0.69      0.73      0.71        75\n",
            "\n",
            "    accuracy                           0.81       231\n",
            "   macro avg       0.78      0.79      0.78       231\n",
            "weighted avg       0.81      0.81      0.81       231\n",
            "\n",
            "Accuracy Score of RandomForest: \n",
            " 0.8614718614718615\n",
            "Confusion Matrix of RandomForest : \n",
            " [[134  22]\n",
            " [ 10  65]]\n",
            "Classification report of RandomForest: \n",
            "               precision    recall  f1-score   support\n",
            "\n",
            "           0       0.93      0.86      0.89       156\n",
            "           1       0.75      0.87      0.80        75\n",
            "\n",
            "    accuracy                           0.86       231\n",
            "   macro avg       0.84      0.86      0.85       231\n",
            "weighted avg       0.87      0.86      0.86       231\n",
            "\n"
          ]
        },
        {
          "output_type": "execute_result",
          "data": {
            "text/plain": [
              "(0.8614718614718615, array([[134,  22],\n",
              "        [ 10,  65]]))"
            ]
          },
          "metadata": {},
          "execution_count": 11
        }
      ]
    },
    {
      "cell_type": "markdown",
      "source": [
        "# **8. Reference**\n",
        "\n",
        "**Auther :** \n",
        "\n",
        "Chayanin Chomchuen\n",
        "\n",
        "**Co-auther :** \n",
        "\n",
        "Sabarinath Muralidharan Sujatha"
      ],
      "metadata": {
        "id": "sJX9Q8x4N9k1"
      }
    }
  ],
  "metadata": {
    "colab": {
      "name": "BinaryClassificationDiabetics.ipynb",
      "provenance": [],
      "collapsed_sections": [],
      "authorship_tag": "ABX9TyM3lvzEPGiorfVpBVLL2Hb8",
      "include_colab_link": true
    },
    "kernelspec": {
      "display_name": "Python 3",
      "name": "python3"
    },
    "language_info": {
      "name": "python"
    }
  },
  "nbformat": 4,
  "nbformat_minor": 0
}